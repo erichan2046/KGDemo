{
 "cells": [
  {
   "cell_type": "markdown",
   "metadata": {},
   "source": [
    "# 官网英雄详情"
   ]
  },
  {
   "cell_type": "code",
   "execution_count": 1,
   "metadata": {},
   "outputs": [],
   "source": [
    "from selenium.webdriver.common.action_chains import ActionChains\n",
    "from selenium import webdriver\n",
    "import pandas as pd\n",
    "import re"
   ]
  },
  {
   "cell_type": "code",
   "execution_count": 2,
   "metadata": {},
   "outputs": [
    {
     "name": "stderr",
     "output_type": "stream",
     "text": [
      "G:\\ForWork\\Anaconda\\envs\\gpu\\lib\\site-packages\\selenium\\webdriver\\phantomjs\\webdriver.py:49: UserWarning: Selenium support for PhantomJS has been deprecated, please use headless versions of Chrome or Firefox instead\n",
      "  warnings.warn('Selenium support for PhantomJS has been deprecated, please use headless '\n"
     ]
    }
   ],
   "source": [
    "driver = webdriver.PhantomJS(executable_path=r'G:\\ForWork\\phantomjs-2.1.1-windows/bin/phantomjs')"
   ]
  },
  {
   "cell_type": "code",
   "execution_count": 3,
   "metadata": {},
   "outputs": [],
   "source": [
    "url='http://pvp.qq.com/web201605/herodetail/511.shtml'\n",
    "driver.get(url)"
   ]
  },
  {
   "cell_type": "code",
   "execution_count": 4,
   "metadata": {},
   "outputs": [],
   "source": [
    "data={'name':'猪八戒','url':url} "
   ]
  },
  {
   "cell_type": "raw",
   "metadata": {},
   "source": [
    "基本属性(是一个条的形状.可以从style=\"width:50%\"中获取基本属性)\n",
    "/html/body/div[3]/div[1]/div/div/div[1]/ul/li[1]/span/i\n",
    "/html/body/div[3]/div[1]/div/div/div[1]/ul/li[2]/span/i"
   ]
  },
  {
   "cell_type": "code",
   "execution_count": 6,
   "metadata": {},
   "outputs": [],
   "source": [
    "nodes=driver.find_elements_by_xpath('/html/body/div[3]/div[1]/div/div/div[1]/ul/li/span/i')\n",
    "attr_list=['survival','attack','skill_attack','difficulty']\n",
    "\n",
    "pattern=re.compile('(\\d+/?)+') #使用正则表达式匹配数字\n",
    "for i in range(len(attr_list)):\n",
    "    tmp=nodes[i].get_attribute('style')\n",
    "    data[attr_list[i]]=pattern.search(tmp).group()"
   ]
  },
  {
   "cell_type": "code",
   "execution_count": 9,
   "metadata": {},
   "outputs": [
    {
     "data": {
      "text/plain": [
       "{'name': '猪八戒',\n",
       " 'url': 'http://pvp.qq.com/web201605/herodetail/511.shtml',\n",
       " 'survival': '70',\n",
       " 'attack': '50',\n",
       " 'skill_attack': '50',\n",
       " 'difficulty': '60'}"
      ]
     },
     "execution_count": 9,
     "metadata": {},
     "output_type": "execute_result"
    }
   ],
   "source": [
    "data"
   ]
  },
  {
   "cell_type": "raw",
   "metadata": {},
   "source": [
    "#/html/body/div[3]/div[2]/div/div[1]/div[2]/div/ul/li[1]\n",
    "#/html/body/div[3]/div[2]/div/div[1]/div[2]/div/ul/li[2]\n",
    "该网页需要鼠标移动到对应的技能上才能显示对应的技能描述.所以使用鼠标事件move_to_element模拟鼠标进行爬取"
   ]
  },
  {
   "cell_type": "code",
   "execution_count": 10,
   "metadata": {},
   "outputs": [],
   "source": [
    "##技能\n",
    "nodes=driver.find_elements_by_xpath('/html/body/div[3]/div[2]/div/div[1]/div[2]/div/ul/li')\n",
    "\n",
    "actions=ActionChains(driver)"
   ]
  },
  {
   "cell_type": "code",
   "execution_count": 11,
   "metadata": {},
   "outputs": [],
   "source": [
    "for i in range(4):\n",
    "    actions.move_to_element(nodes[i])\n",
    "    actions.perform()\n",
    "    data['skill_'+str(i)]=driver.find_element_by_xpath('/html/body/div[3]/div[2]/div/div[1]/div[2]/div/div/div['+str(i+1)+']/p[1]/b').text\n",
    "    tmp=driver.find_element_by_xpath('/html/body/div[3]/div[2]/div/div[1]/div[2]/div/div/div['+str(i+1)+']/p[1]/span[1]').text\n",
    "    data['skill_'+str(i)+'_cooling']=pattern.search(tmp).group()\n",
    "    tmp=driver.find_element_by_xpath('/html/body/div[3]/div[2]/div/div[1]/div[2]/div/div/div['+str(i+1)+']/p[1]/span[2]').text\n",
    "    data['skill_'+str(i)+'_cost']=pattern.search(tmp).group()\n",
    "    data['skill_'+str(i)+'_desc']=driver.find_element_by_xpath('/html/body/div[3]/div[2]/div/div[1]/div[2]/div/div/div['+str(i+1)+']/p[2]').text"
   ]
  },
  {
   "cell_type": "code",
   "execution_count": 12,
   "metadata": {},
   "outputs": [
    {
     "data": {
      "text/plain": [
       "{'name': '猪八戒',\n",
       " 'url': 'http://pvp.qq.com/web201605/herodetail/511.shtml',\n",
       " 'survival': '70',\n",
       " 'attack': '50',\n",
       " 'skill_attack': '50',\n",
       " 'difficulty': '60',\n",
       " 'skill_0': '毫发无伤',\n",
       " 'skill_0_cooling': '0',\n",
       " 'skill_0_cost': '0',\n",
       " 'skill_0_desc': '被动：猪八戒损失的生命会以残血形态暂存，暂存期间猪八戒对英雄\\\\非英雄造成伤害50%\\\\25%(计算忽略敌方免伤)的等值残血会转化为真实血量。残血产生7秒后开始以每秒3%最大生命值的速度自动消减。九齿钉耙乃神兵，普攻附带40（+0.5%最大生命加成）点物理伤害',\n",
       " 'skill_1': '肉弹蹦床',\n",
       " 'skill_1_cooling': '8',\n",
       " 'skill_1_cost': '0',\n",
       " 'skill_1_desc': '猪八戒奋力跳起，落地时对砸到的敌人造成150/165/180/195/210/225（+8%最大生命加成）点物理伤害。之后弹性极佳的身体会再次高高弹起，并在落地时造成相同伤害，以及0.75秒晕眩效果。再次落地时由于惯性极大，猪八戒会快速翻滚一段距离。跳跃期间猪八戒处于霸体状态',\n",
       " 'skill_2': '倒打一耙',\n",
       " 'skill_2_cooling': '11/10',\n",
       " 'skill_2_cost': '0',\n",
       " 'skill_2_desc': '猪八戒将钉耙变长直击前方敌人，造成150/180/210/240/270/300（+50%物理加成）点物理伤害和1.5秒60%减速效果。钉耙若嵌入地形，猪八戒会借力冲撞至嵌入处，并将路径上敌人击退至该处。猪八戒撞击地形时，造成150/165/180/195/210/225/（+6%最大生命加成）点物理伤害和1秒晕眩。被动：使用倒打一耙后，下次普攻会用钉耙把敌人拉回来',\n",
       " 'skill_3': '圈养时刻',\n",
       " 'skill_3_cooling': '36/32/28',\n",
       " 'skill_3_cost': '0',\n",
       " 'skill_3_desc': '猪八戒筑起一堵高墙，英雄无法移动穿越；墙最多存在4秒；筑起瞬间对身前敌人造成250/325/400/(（+90%物理加成）点物理伤害；施法时猪八戒霸体'}"
      ]
     },
     "execution_count": 12,
     "metadata": {},
     "output_type": "execute_result"
    }
   ],
   "source": [
    "data"
   ]
  },
  {
   "cell_type": "raw",
   "metadata": {},
   "source": [
    "/html/body/div[3]/div[2]/div/div[2]/div[1]/div[3]/div/div[1]/div[2]/ul/li[1]/a\n",
    "/html/body/div[3]/div[2]/div/div[2]/div[1]/div[3]/div/div[1]/div[2]/ul/li[2]/a"
   ]
  },
  {
   "cell_type": "code",
   "execution_count": 19,
   "metadata": {},
   "outputs": [],
   "source": [
    "##英雄关系\n",
    "hero_data1=pd.read_csv(r\"F:\\ericstudy\\wangzherongyao\\newVersion\\data\\url.csv\",encoding=\"gbk\")\n",
    "nodes=driver.find_elements_by_xpath('/html/body/div[3]/div[2]/div/div[2]/div[1]/div[3]/div/div/div[2]/ul/li/a')\n",
    "hero_rela=['搭配英雄1','搭配英雄2','压制英雄1','压制英雄2','被压制英雄1','被压制英雄2']\n",
    "for i in range(1,len(hero_rela)):\n",
    "    u=nodes[i].get_attribute('href')\n",
    "    data[hero_rela[i]]=hero_data1['hero'][hero_data1['url1']==u].values[0]\n",
    "    #data[hero_rela[i]]=nodes[i].get_attribute('href')"
   ]
  },
  {
   "cell_type": "code",
   "execution_count": 20,
   "metadata": {},
   "outputs": [
    {
     "data": {
      "text/plain": [
       "{'name': '猪八戒',\n",
       " 'url': 'http://pvp.qq.com/web201605/herodetail/511.shtml',\n",
       " 'survival': '70',\n",
       " 'attack': '50',\n",
       " 'skill_attack': '50',\n",
       " 'difficulty': '60',\n",
       " 'skill_0': '毫发无伤',\n",
       " 'skill_0_cooling': '0',\n",
       " 'skill_0_cost': '0',\n",
       " 'skill_0_desc': '被动：猪八戒损失的生命会以残血形态暂存，暂存期间猪八戒对英雄\\\\非英雄造成伤害50%\\\\25%(计算忽略敌方免伤)的等值残血会转化为真实血量。残血产生7秒后开始以每秒3%最大生命值的速度自动消减。九齿钉耙乃神兵，普攻附带40（+0.5%最大生命加成）点物理伤害',\n",
       " 'skill_1': '肉弹蹦床',\n",
       " 'skill_1_cooling': '8',\n",
       " 'skill_1_cost': '0',\n",
       " 'skill_1_desc': '猪八戒奋力跳起，落地时对砸到的敌人造成150/165/180/195/210/225（+8%最大生命加成）点物理伤害。之后弹性极佳的身体会再次高高弹起，并在落地时造成相同伤害，以及0.75秒晕眩效果。再次落地时由于惯性极大，猪八戒会快速翻滚一段距离。跳跃期间猪八戒处于霸体状态',\n",
       " 'skill_2': '倒打一耙',\n",
       " 'skill_2_cooling': '11/10',\n",
       " 'skill_2_cost': '0',\n",
       " 'skill_2_desc': '猪八戒将钉耙变长直击前方敌人，造成150/180/210/240/270/300（+50%物理加成）点物理伤害和1.5秒60%减速效果。钉耙若嵌入地形，猪八戒会借力冲撞至嵌入处，并将路径上敌人击退至该处。猪八戒撞击地形时，造成150/165/180/195/210/225/（+6%最大生命加成）点物理伤害和1秒晕眩。被动：使用倒打一耙后，下次普攻会用钉耙把敌人拉回来',\n",
       " 'skill_3': '圈养时刻',\n",
       " 'skill_3_cooling': '36/32/28',\n",
       " 'skill_3_cost': '0',\n",
       " 'skill_3_desc': '猪八戒筑起一堵高墙，英雄无法移动穿越；墙最多存在4秒；筑起瞬间对身前敌人造成250/325/400/(（+90%物理加成）点物理伤害；施法时猪八戒霸体',\n",
       " '搭配英雄2': '貂蝉',\n",
       " '压制英雄1': '项羽',\n",
       " '压制英雄2': '后羿',\n",
       " '被压制英雄1': '李白',\n",
       " '被压制英雄2': '百里守约'}"
      ]
     },
     "execution_count": 20,
     "metadata": {},
     "output_type": "execute_result"
    }
   ],
   "source": [
    "data"
   ]
  },
  {
   "cell_type": "code",
   "execution_count": null,
   "metadata": {},
   "outputs": [],
   "source": []
  }
 ],
 "metadata": {
  "kernelspec": {
   "display_name": "gpu",
   "language": "python",
   "name": "gpu"
  },
  "language_info": {
   "codemirror_mode": {
    "name": "ipython",
    "version": 3
   },
   "file_extension": ".py",
   "mimetype": "text/x-python",
   "name": "python",
   "nbconvert_exporter": "python",
   "pygments_lexer": "ipython3",
   "version": "3.6.2"
  }
 },
 "nbformat": 4,
 "nbformat_minor": 2
}

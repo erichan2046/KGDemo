{
 "cells": [
  {
   "cell_type": "code",
   "execution_count": 1,
   "metadata": {},
   "outputs": [],
   "source": [
    "from selenium import webdriver\n",
    "import pandas as pd"
   ]
  },
  {
   "cell_type": "code",
   "execution_count": 2,
   "metadata": {},
   "outputs": [
    {
     "name": "stderr",
     "output_type": "stream",
     "text": [
      "G:\\ForWork\\Anaconda\\envs\\gpu\\lib\\site-packages\\selenium\\webdriver\\phantomjs\\webdriver.py:49: UserWarning: Selenium support for PhantomJS has been deprecated, please use headless versions of Chrome or Firefox instead\n",
      "  warnings.warn('Selenium support for PhantomJS has been deprecated, please use headless '\n"
     ]
    }
   ],
   "source": [
    "driver = webdriver.PhantomJS(executable_path=r'G:\\ForWork\\phantomjs-2.1.1-windows/bin/phantomjs')\n",
    "url=\"http://news.17173.com/z/pvp/yxtj/zy/index.shtml\"\n",
    "data={'name':'明世隐','url':url} "
   ]
  },
  {
   "cell_type": "code",
   "execution_count": 3,
   "metadata": {},
   "outputs": [],
   "source": [
    "attr_list=['HP','MP','attack','magic_attack','defense','injury_reduction_rate','magic_defense',\n",
    "           'magic_injury_reduction_rate','speed','sunder_armor','magic_sunder_armor',\n",
    "           'speed_up','crit_rate','crit_effect','vampire','magic_vampire',\n",
    "           'cooling_reduce','attack_rank','toughness','HP_recover','MP_recover']"
   ]
  },
  {
   "cell_type": "code",
   "execution_count": 4,
   "metadata": {},
   "outputs": [],
   "source": [
    "driver.get(url)"
   ]
  },
  {
   "cell_type": "raw",
   "metadata": {},
   "source": [
    "/html/body/div[4]/div[2]/div[2]/div[1]/div[2]/div[1]/div[1]/div[2]/div[1]\n",
    "/html/body/div[4]/div[2]/div[2]/div[1]/div[2]/div[1]/div[1]/div[2]/div[2]"
   ]
  },
  {
   "cell_type": "code",
   "execution_count": 10,
   "metadata": {},
   "outputs": [],
   "source": [
    "nodes=driver.find_elements_by_xpath('/html/body/div[4]/div[2]/div[2]/div[1]/div[2]/div[1]/div[1]/div[2]/div')\n",
    "for i in range(len(attr_list)):\n",
    "    data[attr_list[i]]=nodes[i].text.split('：')[1]"
   ]
  },
  {
   "cell_type": "code",
   "execution_count": 11,
   "metadata": {},
   "outputs": [
    {
     "data": {
      "text/plain": [
       "{'name': '明世隐',\n",
       " 'url': 'http://news.17173.com/z/pvp/yxtj/zy/index.shtml',\n",
       " 'HP': '3267',\n",
       " 'MP': '430',\n",
       " 'attack': '173',\n",
       " 'magic_attack': '0',\n",
       " 'defense': '84',\n",
       " 'injury_reduction_rate': '12.2%',\n",
       " 'magic_defense': '50',\n",
       " 'magic_injury_reduction_rate': '7.6%',\n",
       " 'speed': '380',\n",
       " 'sunder_armor': '0',\n",
       " 'magic_sunder_armor': '0',\n",
       " 'speed_up': '0',\n",
       " 'crit_rate': '0',\n",
       " 'crit_effect': '200%',\n",
       " 'vampire': '0',\n",
       " 'magic_vampire': '0',\n",
       " 'cooling_reduce': '0',\n",
       " 'attack_rank': '近程',\n",
       " 'toughness': '0',\n",
       " 'HP_recover': '50',\n",
       " 'MP_recover': '15'}"
      ]
     },
     "execution_count": 11,
     "metadata": {},
     "output_type": "execute_result"
    }
   ],
   "source": [
    "data"
   ]
  },
  {
   "cell_type": "raw",
   "metadata": {},
   "source": [
    "/html/body/div[4]/div[2]/div[2]/div[1]/div[2]/div[2]/div[2]/div/div[3]/div/div[2]/ul/li[1]\n",
    "/html/body/div[4]/div[2]/div[2]/div[1]/div[2]/div[2]/div[2]/div/div[3]/div/div[2]/ul/li[2]\n"
   ]
  },
  {
   "cell_type": "code",
   "execution_count": 12,
   "metadata": {},
   "outputs": [],
   "source": [
    "#获取出装建议    \n",
    "nodes=driver.find_elements_by_xpath('/html/body/div[4]/div[2]/div[2]/div[1]/div[2]/div[2]/div[2]/div/div[3]/div/div[2]/ul/li')\n",
    "for i in range(len(nodes)):\n",
    "    data['weapon_'+str(i+1)]=nodes[i].text"
   ]
  },
  {
   "cell_type": "code",
   "execution_count": 13,
   "metadata": {},
   "outputs": [
    {
     "data": {
      "text/plain": [
       "{'name': '明世隐',\n",
       " 'url': 'http://news.17173.com/z/pvp/yxtj/zy/index.shtml',\n",
       " 'HP': '3267',\n",
       " 'MP': '430',\n",
       " 'attack': '173',\n",
       " 'magic_attack': '0',\n",
       " 'defense': '84',\n",
       " 'injury_reduction_rate': '12.2%',\n",
       " 'magic_defense': '50',\n",
       " 'magic_injury_reduction_rate': '7.6%',\n",
       " 'speed': '380',\n",
       " 'sunder_armor': '0',\n",
       " 'magic_sunder_armor': '0',\n",
       " 'speed_up': '0',\n",
       " 'crit_rate': '0',\n",
       " 'crit_effect': '200%',\n",
       " 'vampire': '0',\n",
       " 'magic_vampire': '0',\n",
       " 'cooling_reduce': '0',\n",
       " 'attack_rank': '近程',\n",
       " 'toughness': '0',\n",
       " 'HP_recover': '50',\n",
       " 'MP_recover': '15',\n",
       " 'weapon_1': '巨人之握',\n",
       " 'weapon_2': '抵抗之靴',\n",
       " 'weapon_3': '冰痕之握',\n",
       " 'weapon_4': '魔女斗篷',\n",
       " 'weapon_5': '暗影战斧',\n",
       " 'weapon_6': '贤者的庇护'}"
      ]
     },
     "execution_count": 13,
     "metadata": {},
     "output_type": "execute_result"
    }
   ],
   "source": [
    "data"
   ]
  },
  {
   "cell_type": "raw",
   "metadata": {},
   "source": [
    "/html/body/div[4]/div[2]/div[2]/div[1]/div[1]/div[1]/div[2]/p/span[3]/span[1]\n",
    "/html/body/div[4]/div[2]/div[2]/div[1]/div[1]/div[1]/div[2]/p/span[3]/span[2]\n"
   ]
  },
  {
   "cell_type": "code",
   "execution_count": 14,
   "metadata": {},
   "outputs": [],
   "source": [
    "#获取tag\n",
    "nodes=driver.find_elements_by_xpath('/html/body/div[4]/div[2]/div[2]/div[1]/div[1]/div[1]/div[2]/p/span[3]/span')"
   ]
  },
  {
   "cell_type": "code",
   "execution_count": 15,
   "metadata": {},
   "outputs": [],
   "source": [
    "for i in range(len(nodes)):\n",
    "    data['tag_'+str(i+1)]=nodes[i].text"
   ]
  },
  {
   "cell_type": "code",
   "execution_count": 16,
   "metadata": {},
   "outputs": [
    {
     "data": {
      "text/plain": [
       "{'name': '明世隐',\n",
       " 'url': 'http://news.17173.com/z/pvp/yxtj/zy/index.shtml',\n",
       " 'HP': '3267',\n",
       " 'MP': '430',\n",
       " 'attack': '173',\n",
       " 'magic_attack': '0',\n",
       " 'defense': '84',\n",
       " 'injury_reduction_rate': '12.2%',\n",
       " 'magic_defense': '50',\n",
       " 'magic_injury_reduction_rate': '7.6%',\n",
       " 'speed': '380',\n",
       " 'sunder_armor': '0',\n",
       " 'magic_sunder_armor': '0',\n",
       " 'speed_up': '0',\n",
       " 'crit_rate': '0',\n",
       " 'crit_effect': '200%',\n",
       " 'vampire': '0',\n",
       " 'magic_vampire': '0',\n",
       " 'cooling_reduce': '0',\n",
       " 'attack_rank': '近程',\n",
       " 'toughness': '0',\n",
       " 'HP_recover': '50',\n",
       " 'MP_recover': '15',\n",
       " 'weapon_1': '巨人之握',\n",
       " 'weapon_2': '抵抗之靴',\n",
       " 'weapon_3': '冰痕之握',\n",
       " 'weapon_4': '魔女斗篷',\n",
       " 'weapon_5': '暗影战斧',\n",
       " 'weapon_6': '贤者的庇护',\n",
       " 'tag_1': '战士',\n",
       " 'tag_2': '突进',\n",
       " 'tag_3': '控制'}"
      ]
     },
     "execution_count": 16,
     "metadata": {},
     "output_type": "execute_result"
    }
   ],
   "source": [
    "data"
   ]
  },
  {
   "cell_type": "code",
   "execution_count": null,
   "metadata": {},
   "outputs": [],
   "source": []
  }
 ],
 "metadata": {
  "kernelspec": {
   "display_name": "gpu",
   "language": "python",
   "name": "gpu"
  },
  "language_info": {
   "codemirror_mode": {
    "name": "ipython",
    "version": 3
   },
   "file_extension": ".py",
   "mimetype": "text/x-python",
   "name": "python",
   "nbconvert_exporter": "python",
   "pygments_lexer": "ipython3",
   "version": "3.6.2"
  }
 },
 "nbformat": 4,
 "nbformat_minor": 2
}

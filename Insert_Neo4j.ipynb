{
 "cells": [
  {
   "cell_type": "code",
   "execution_count": 1,
   "metadata": {},
   "outputs": [],
   "source": [
    "import pandas as pd\n",
    "from py2neo import Graph,Node,walk,Relationship\n",
    "import re\n",
    "import jieba"
   ]
  },
  {
   "cell_type": "code",
   "execution_count": 3,
   "metadata": {},
   "outputs": [],
   "source": [
    "g=Graph(\"http://localhost:7474\",password=\"pass\") "
   ]
  },
  {
   "cell_type": "code",
   "execution_count": 7,
   "metadata": {},
   "outputs": [],
   "source": [
    "g.delete_all()\n",
    "#g.run(\"MATCH (n) OPTIONAL MATCH (n)-[r]-()DELETE n,r\")\n",
    "g.find_one('hero')"
   ]
  },
  {
   "cell_type": "raw",
   "metadata": {},
   "source": [
    "#建立节点\n",
    "\"\"\"\n",
    "g.run('''LOAD CSV WITH HEADERS  FROM \"file:./hero66666.csv\" AS data \n",
    " MERGE (label:hero{name:data['name'],skill_passive:data['skill_passive'],skill_1:data['skill_1'],skill_1_cooling:data['skill_1_cooling'],skill_1_cost:data['skill_1_cost'],skill_2:data['skill_2'],skill_2_cost:data['skill_2_cost'],skill_2_cooling:data['skill_2_cooling'],R:data['R'],R_cooling:data['R_cooling'],R_cost:data['R_cost'],tag:data['tag'],HP:data['HP'],MP:data['MP'],HP_recover:data['HP_recover'],MP_recover:data['MP_recover'],attack:data['attack'],defense:data['defense'],magic_defense:data['magic_defense'],speed:data['speed'],attack_range:data['attack_range']})''')\n",
    "\"\"\""
   ]
  },
  {
   "cell_type": "code",
   "execution_count": 10,
   "metadata": {},
   "outputs": [],
   "source": [
    "hero_data=pd.read_csv('./data/hero.csv',header=0,encoding='gbk')\n",
    "for i in range(0,len(hero_data)):\n",
    "    temp=Node('hero',name=(hero_data['name'][i]),\n",
    "            skill_passive=(hero_data['skill_passive'][i]),\n",
    "            skill_1=(hero_data['skill_1'][i]),\n",
    "            skill_1_cooling=(hero_data['skill_1_cooling'][i]),\n",
    "            skill_1_cost=int(hero_data['skill_1_cost'][i]),\n",
    "            skill_2=(hero_data['skill_2'][i]),\n",
    "            skill_2_cost=int(hero_data['skill_2_cost'][i]),\n",
    "            skill_2_cooling=(hero_data['skill_2_cooling'][i]),\n",
    "            R=(hero_data['R'][i]),R_cooling=(hero_data['R_cooling'][i]),\n",
    "            R_cost=int(hero_data['R_cost'][i]),tag=(hero_data['tag'][i]),\n",
    "            HP=int(hero_data['HP'][i]),MP=int(hero_data['MP'][i]),\n",
    "            HP_recover=int(hero_data['HP_recover'][i]),\n",
    "            MP_recover=int(hero_data['MP_recover'][i]),\n",
    "            attack=int(hero_data['attack'][i]),\n",
    "            defense=int(hero_data['defense'][i]),\n",
    "            magic_defense=int(hero_data['magic_defense'][i]),\n",
    "            speed=float(hero_data['speed'][i]),\n",
    "            attack_range=(hero_data['attack_range'][i]))\n",
    "    g.create(temp)"
   ]
  },
  {
   "cell_type": "code",
   "execution_count": 11,
   "metadata": {},
   "outputs": [],
   "source": [
    "weapon_data=pd.read_excel('./data/data_modified.xlsx',header=0)\n",
    "weapon_data[u'物品名称'][0]\n",
    "for i in range(0,len(weapon_data)):\n",
    "    temp=Node('weapon', price=str(weapon_data[u'价格'][i])  ,name= weapon_data[u'物品名称'][i],property=weapon_data[u'属性1'][i]+' '+weapon_data[u'属性2'][i]+' '+weapon_data[u'属性3'][i]+' '+weapon_data[u'属性4'][i]+ ' '+weapon_data[u'属性5'][i])\n",
    "    g.create(temp)"
   ]
  },
  {
   "cell_type": "code",
   "execution_count": 12,
   "metadata": {},
   "outputs": [
    {
     "name": "stdout",
     "output_type": "stream",
     "text": [
      "1842\n"
     ]
    }
   ],
   "source": [
    "#建立关系\n",
    "data=pd.read_csv('./data/relation.csv',header=0,sep=',')\n",
    "print (len(data))"
   ]
  },
  {
   "cell_type": "code",
   "execution_count": 13,
   "metadata": {},
   "outputs": [],
   "source": [
    "m=0\n",
    "for m in range(0,1015):\n",
    "    try:\n",
    "        rel=Relationship(g.find_one(label='hero',property_key='name',property_value = data['name'][m]),data['guanxi'][m],g.find_one(label='hero',property_key='name',property_value=data['name2'][m]))\n",
    "        g.create(rel)\n",
    "    except AttributeError:\n",
    "        print (m)\n",
    "m=0\n",
    "for m in range(1015,1274):\n",
    "    try:\n",
    "        rel=Relationship(g.find_one(label='weapon',property_key='name',property_value=data['name'][m]),data['guanxi'][m],g.find_one(label='hero',property_key='name',property_value=data['name2'][m]))\n",
    "        g.create(rel)\n",
    "    except AttributeError:\n",
    "        print (m)\n",
    "m=0\n",
    "for m in range(1274,1434):\n",
    "    rel=Relationship(g.find_one(label='weapon',property_key='name',property_value=data['name'][m]),data['guanxi'][m],g.find_one(label='weapon',property_key='name',property_value=data['name2'][m]))\n",
    "    g.create(rel)\n",
    "m=0\n",
    "\n",
    "for m in range(1434,1842):\n",
    "    rel=Relationship(g.find_one(label='hero',property_key='name',property_value=data['name'][m]),data['guanxi'][m],g.find_one(label='weapon',property_key='name',property_value=data['name2'][m]))\n",
    "    g.create(rel)"
   ]
  },
  {
   "cell_type": "code",
   "execution_count": null,
   "metadata": {},
   "outputs": [],
   "source": []
  }
 ],
 "metadata": {
  "kernelspec": {
   "display_name": "gpu",
   "language": "python",
   "name": "gpu"
  },
  "language_info": {
   "codemirror_mode": {
    "name": "ipython",
    "version": 3
   },
   "file_extension": ".py",
   "mimetype": "text/x-python",
   "name": "python",
   "nbconvert_exporter": "python",
   "pygments_lexer": "ipython3",
   "version": "3.6.2"
  }
 },
 "nbformat": 4,
 "nbformat_minor": 2
}

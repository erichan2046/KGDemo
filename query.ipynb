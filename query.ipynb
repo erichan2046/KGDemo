{
 "cells": [
  {
   "cell_type": "code",
   "execution_count": 1,
   "metadata": {},
   "outputs": [],
   "source": [
    "from py2neo import Graph,Node,walk,Relationship,NodeSelector\n",
    "import pandas as pd"
   ]
  },
  {
   "cell_type": "code",
   "execution_count": 66,
   "metadata": {},
   "outputs": [],
   "source": [
    "#英雄列表\n",
    "hero=pd.read_csv('./data/hero.csv',header=0,encoding='gbk')['name']\n",
    "\n",
    "#装备列表\n",
    "weapon=pd.read_excel('./data/data_modified.xlsx',header=0)['物品名称']\n",
    "\n",
    "nodes=list(hero)+list(weapon)\n",
    "\n",
    "#关系列表\n",
    "relation=[u'相似',u'克制',u'搭配',u'推荐',u'适合用于对抗',u'同类互斥']\n",
    "\n",
    "#英雄属性列表\n",
    "HP_all=['HP',u'生命值',u'血量',u'血上限',u'红',u\"血\"]\n",
    "MP_all=['MP',u'法力值',u'蓝量',u'蓝']\n",
    "HP_recover_all=[u'HP_recover',u'每5秒回血','回血']\n",
    "MP_recover_all=[u'MP_recover',u'每5秒回复法力值',u'每5秒回蓝',u'回蓝']\n",
    "R_cooling_all=['R_cooling',u'大招冷却时间']\n",
    "R_cost_all=['R_cost',u'大招消耗']\n",
    "skill_R_all=['R',u'大招']\n",
    "attack_all=['attack',u'物理攻击',u'攻击力',u'攻击']\n",
    "attack_range_all=['attack_range',u'攻击距离',u'近战',u'远程']\n",
    "aa=['defense',u'护甲',u'物理防御']\n",
    "bb=['skill_passive',u'被动技能',u'被动']\n",
    "cc=['skill_1',u'一技能',u'1技能',u'技能一',u'技能1']\n",
    "dd=['skill_2',u'二技能',u'2技能',u'技能二',u'技能2']\n",
    "ee=['skill_1_cooling',u'1技能冷却时间',u'技能1冷却时间',u'一技能冷却时间',u'技能一冷却时间']\n",
    "ff=['skill_2_cooling',u'2技能冷却时间',u'技能2冷却时间',u'二技能冷却时间',u'技能二冷却时间']\n",
    "gg=['skill_1_cost',u'1技能消耗',u'技能1消耗',u'一技能消耗',u'技能一消耗']\n",
    "hh=['skill_2_cost',u'2技能消耗',u'技能2消耗',u'二技能消耗',u'技能二消耗']\n",
    "ii=['speed',u'移动速度',u'移速',u'速度']\n",
    "jj=['tag',u'类型']\n",
    "hero_property=[aa,bb,cc,dd,ee,ff,gg,hh,ii,jj,HP_all,MP_all,HP_recover_all,MP_recover_all,R_cooling_all,R_cost_all,skill_R_all,attack_all,attack_range_all]\n",
    "        \n",
    "#道具属性同义词库\n",
    "wsx='property\t法术吸血\t物理吸血\t暴击率\t法术防御\t物理防御\t每5秒回蓝\t每5秒回血\t最大法力\t最大生命\t减cd\t攻击速度\t移速\t法术攻击\t物理攻击'.split('\t')\n",
    "\n",
    "wsx.append(u'被动')\n",
    "wsx.append(u'主动') \n",
    "\n",
    "synonym=hero_property+[wsx] #同义词表\n",
    "\n",
    "#属性词表\n",
    "propertys=[s[0] for s in synonym ]"
   ]
  },
  {
   "cell_type": "code",
   "execution_count": 3,
   "metadata": {},
   "outputs": [
    {
     "data": {
      "text/plain": [
       "[['defense', '护甲', '物理防御'],\n",
       " ['skill_passive', '被动技能', '被动'],\n",
       " ['skill_1', '一技能', '1技能', '技能一', '技能1'],\n",
       " ['skill_2', '二技能', '2技能', '技能二', '技能2'],\n",
       " ['skill_1_cooling', '1技能冷却时间', '技能1冷却时间', '一技能冷却时间', '技能一冷却时间'],\n",
       " ['skill_2_cooling', '2技能冷却时间', '技能2冷却时间', '二技能冷却时间', '技能二冷却时间'],\n",
       " ['skill_1_cost', '1技能消耗', '技能1消耗', '一技能消耗', '技能一消耗'],\n",
       " ['skill_2_cost', '2技能消耗', '技能2消耗', '二技能消耗', '技能二消耗'],\n",
       " ['speed', '移动速度', '移速', '速度'],\n",
       " ['tag', '类型'],\n",
       " ['HP', '生命值', '血量', '血上限', '红'],\n",
       " ['MP', '法力值', '蓝量', '蓝'],\n",
       " ['HP_recover', '每5秒回血', '回血'],\n",
       " ['MP_recover', '每5秒回复法力值', '每5秒回蓝', '回蓝'],\n",
       " ['R_cooling', '大招冷却时间'],\n",
       " ['R_cost', '大招消耗'],\n",
       " ['R', '大招'],\n",
       " ['attack', '物理攻击', '攻击力', '攻击'],\n",
       " ['attack_range', '攻击距离', '近战', '远程'],\n",
       " ['property',\n",
       "  '法术吸血',\n",
       "  '物理吸血',\n",
       "  '暴击率',\n",
       "  '法术防御',\n",
       "  '物理防御',\n",
       "  '每5秒回蓝',\n",
       "  '每5秒回血',\n",
       "  '最大法力',\n",
       "  '最大生命',\n",
       "  '减cd',\n",
       "  '攻击速度',\n",
       "  '移速',\n",
       "  '法术攻击',\n",
       "  '物理攻击',\n",
       "  '被动',\n",
       "  '主动']]"
      ]
     },
     "execution_count": 3,
     "metadata": {},
     "output_type": "execute_result"
    }
   ],
   "source": [
    "synonym"
   ]
  },
  {
   "cell_type": "code",
   "execution_count": 51,
   "metadata": {},
   "outputs": [],
   "source": [
    "graph=Graph(\"http://localhost:7474\",password=\"pass\") "
   ]
  },
  {
   "cell_type": "code",
   "execution_count": 52,
   "metadata": {},
   "outputs": [
    {
     "data": {
      "text/plain": [
       "{'skill_2_cooling': '14/13.4/12.8/12.2/11.6/11',\n",
       " 'attack_range': '近程',\n",
       " 'MP': 0,\n",
       " 'skill_2_cost': 60,\n",
       " 'skill_passive': '被动：每次击败英雄或助攻会回复生命值，击杀英雄回复最大生命6%，击败小兵野怪回复最大生命1%',\n",
       " 'skill_1_cooling': '10/9/8/7/6/5',\n",
       " 'HP': 3510,\n",
       " 'R_cost': 80,\n",
       " 'HP_recover': 53,\n",
       " 'speed': 390.0,\n",
       " 'R_cooling': '30/25/20',\n",
       " 'skill_1_cost': 40,\n",
       " 'R': '白起嘲讽范围内的敌军持续2秒，期间自身受到的伤害将被降低20%/25%/30%；被动：受到攻击每层会提升移动速度10点与护甲30/60/90点，最多叠加3层持续3秒',\n",
       " 'defense': 120,\n",
       " 'attack': 158,\n",
       " 'magic_defense': 50,\n",
       " 'MP_recover': 0,\n",
       " 'name': '白起',\n",
       " 'skill_2': '白起挥出长镰，造成150/185/220/255/290/325（+70%物理加成）点物理伤害并将面前的敌人拉回到身前造成减速',\n",
       " 'tag': ' 突进  坦克 ',\n",
       " 'skill_1': '白起回旋大镰血洗四方，对范围内的敌人造成125/150/175/200/225/250（+120%物理加成）点物理伤害；被动，白起受伤时有几率释放血之回响'}"
      ]
     },
     "execution_count": 52,
     "metadata": {},
     "output_type": "execute_result"
    }
   ],
   "source": [
    "def find_node(graph,node_name,output=None):\n",
    "    s=NodeSelector(graph)  \n",
    "    try:\n",
    "        if(output):\n",
    "            return output(s.select(name=node_name).first())\n",
    "        else:\n",
    "            return s.select(name=node_name).first()\n",
    "    except:\n",
    "        return '没有这个'+node_name+'节点，查询失败'\n",
    "\n",
    "find_node(graph,'白起',dict)"
   ]
  },
  {
   "cell_type": "code",
   "execution_count": 32,
   "metadata": {},
   "outputs": [],
   "source": [
    "#查询node的属性\n",
    "def find_node_property(graph,node_name,props):\n",
    "    tmp=find_node(graph,node_name,output=dict)\n",
    "    if(type(props)==list):\n",
    "        result={}\n",
    "        for i in props:\n",
    "            try:\n",
    "                result[i]=tmp[i]\n",
    "            except:\n",
    "                print('输入的属性'+i+'有误，没有这个属性')\n",
    "        return result\n",
    "    else:\n",
    "        return tmp[props]"
   ]
  },
  {
   "cell_type": "code",
   "execution_count": 70,
   "metadata": {},
   "outputs": [
    {
     "data": {
      "text/plain": [
       "3267"
      ]
     },
     "execution_count": 70,
     "metadata": {},
     "output_type": "execute_result"
    }
   ],
   "source": [
    "find_node_property(graph,'赵云',['skill_1','skill_2'])\n",
    "find_node_property(graph,'赵云','attack_range')"
   ]
  },
  {
   "cell_type": "code",
   "execution_count": 34,
   "metadata": {},
   "outputs": [],
   "source": [
    "#查询与节点有特定关系的节点\n",
    "def find_node_from_rela(graph,node_name,relationship):\n",
    "    node=find_node(graph,node_name)\n",
    "    tmp=[]\n",
    "    try:        \n",
    "        for n in graph.match(start_node=node,rel_type=relationship):\n",
    "            tmp.append(n.end_node()[\"name\"])\n",
    "        return tmp\n",
    "    except:\n",
    "        return '输入有误，查询失败'"
   ]
  },
  {
   "cell_type": "code",
   "execution_count": 35,
   "metadata": {},
   "outputs": [
    {
     "data": {
      "text/plain": [
       "['高渐离', '姜子牙', '鲁班七号', '孙尚香', '王昭君', '武则天', '嬴政']"
      ]
     },
     "execution_count": 35,
     "metadata": {},
     "output_type": "execute_result"
    }
   ],
   "source": [
    "find_node_from_rela(graph,'赵云','克制')"
   ]
  },
  {
   "cell_type": "code",
   "execution_count": 36,
   "metadata": {},
   "outputs": [],
   "source": [
    "#查询两个节点的关系\n",
    "def find_rela(graph,node_name_1,node_name_2):\n",
    "    node_1=find_node(graph,node_name_1)\n",
    "    node_2=find_node(graph,node_name_2)\n",
    "    try:\n",
    "        rel=graph.match_one(start_node=node_1,end_node=node_2)\n",
    "        return node_name_1+rel.type()+node_name_2\n",
    "    except:\n",
    "        try:\n",
    "            rel=graph.match_one(start_node=node_2,end_node=node_1)\n",
    "            return node_name_2+rel.type()+node_name_1\n",
    "        except:\n",
    "            return node_name_1+'与'+node_name_2+'没有关系'"
   ]
  },
  {
   "cell_type": "code",
   "execution_count": 39,
   "metadata": {},
   "outputs": [
    {
     "data": {
      "text/plain": [
       "'赵云克制王昭君'"
      ]
     },
     "execution_count": 39,
     "metadata": {},
     "output_type": "execute_result"
    }
   ],
   "source": [
    "find_rela(graph,'赵云','王昭君')  \n",
    "# find_rela(graph,'王昭君','赵云') \n",
    "# find_rela(graph,'赵云','曹操') \n"
   ]
  },
  {
   "cell_type": "code",
   "execution_count": 40,
   "metadata": {},
   "outputs": [
    {
     "data": {
      "text/plain": [
       "True"
      ]
     },
     "execution_count": 40,
     "metadata": {},
     "output_type": "execute_result"
    }
   ],
   "source": [
    "#查询两个node之间是否存在特定关系\n",
    "def is_node_rela(graph,node_name_1,node_name_2,rela):\n",
    "    tmp=find_rela(graph,node_name_1,node_name_2)\n",
    "    return rela in tmp\n",
    "\n",
    "is_node_rela(graph,'赵云','大乔','搭配')  "
   ]
  },
  {
   "cell_type": "code",
   "execution_count": 41,
   "metadata": {},
   "outputs": [
    {
     "data": {
      "text/plain": [
       "False"
      ]
     },
     "execution_count": 41,
     "metadata": {},
     "output_type": "execute_result"
    }
   ],
   "source": [
    "#查询node的某个属性值是否为指定值\n",
    "def is_node_property(graph,node_name,prop,value):    \n",
    "    return value==find_node_property(graph,node_name,prop)\n",
    " \n",
    "is_node_property(graph,'赵云','attack_range','近程')\n",
    "is_node_property(graph,'赵云','attack_range','远程')\n"
   ]
  },
  {
   "cell_type": "markdown",
   "metadata": {},
   "source": [
    "# 查询语句的处理"
   ]
  },
  {
   "cell_type": "code",
   "execution_count": 54,
   "metadata": {},
   "outputs": [
    {
     "data": {
      "text/plain": [
       "['attack']"
      ]
     },
     "execution_count": 54,
     "metadata": {},
     "output_type": "execute_result"
    }
   ],
   "source": [
    "def get_node(s,nodes):\n",
    "    node=[h for h in nodes if h in s]\n",
    "    return node\n",
    "    \n",
    "get_node('赵云的基本属性',nodes)\n",
    "get_node('赵云和曹操谁的攻击力比较强',nodes)\n",
    "\n",
    "def get_rela(s,relationship):\n",
    "    rela=[r for r in relationship if r in s]\n",
    "    return rela\n",
    "\n",
    "get_rela('赵云克制谁',relation)\n",
    "\n",
    "def get_property(s,propertys):\n",
    "    prop=[p for p in propertys if p in s]\n",
    "    return prop\n",
    "\n",
    "get_property('赵云和曹操谁的攻击力比较强',propertys)\n",
    "get_property('赵云和曹操谁的attack比较强',propertys)"
   ]
  },
  {
   "cell_type": "markdown",
   "metadata": {},
   "source": [
    "# 同义词替换"
   ]
  },
  {
   "cell_type": "code",
   "execution_count": 56,
   "metadata": {},
   "outputs": [
    {
     "data": {
      "text/plain": [
       "('赵云的attack是多少', ['攻击力'])"
      ]
     },
     "execution_count": 56,
     "metadata": {},
     "output_type": "execute_result"
    }
   ],
   "source": [
    "def synonym_replace(question,synonym):\n",
    "    replace_word=[]\n",
    "    for words in synonym:\n",
    "        for i in words:\n",
    "            if(i in question):\n",
    "                question=question.replace(i,words[0])\n",
    "                replace_word.append(i)\n",
    "    return question,replace_word\n",
    "\n",
    "synonym_replace('赵云的攻击力是多少',synonym)\n",
    "# synonym_replace('铁剑加多少暴击率',synonym)"
   ]
  },
  {
   "cell_type": "markdown",
   "metadata": {},
   "source": [
    "# 查询模板编写"
   ]
  },
  {
   "cell_type": "code",
   "execution_count": 44,
   "metadata": {},
   "outputs": [],
   "source": [
    "def search(s,syn,nodes,relation,propertys,graph,output=None):\n",
    "    node=get_node(s,nodes)\n",
    "    rela=get_rela(s,relation)\n",
    "    prop=get_property(s,propertys)\n",
    "    n=len(node)\n",
    "    r=len(rela)\n",
    "    p=len(prop)\n",
    "    if(all([n==1,r==0,p==0])):\n",
    "        return find_node(graph,node[0],output=output)\n",
    "    elif(all([n==1,r==0,p!=0])):\n",
    "        if(prop[0]=='property'):\n",
    "            tmp=find_node_property(graph,node[0],prop)['property'].split(' ')\n",
    "            for t in tmp:\n",
    "                res=[f for f in syn if f in t]\n",
    "                if(res):\n",
    "                    return res\n",
    "                else:\n",
    "                    return node[0]+'没有这个属性'                            \n",
    "        else:\n",
    "            return find_node_property(graph,node[0],prop)\n",
    "    elif(all([n==1,r==1,p==0])):\n",
    "        return find_node_from_rela(graph,node[0],rela[0])\n",
    "    elif(all([n==2,r==0,p==0])):\n",
    "        return find_rela(graph,node[0],node[1])\n",
    "    elif(all([n==2,r==1,p==0])):\n",
    "        return is_node_rela(graph,node[0],node[1],rela[0])\n",
    "    else:\n",
    "        return '查询的问题太复杂，重新输入'                "
   ]
  },
  {
   "cell_type": "code",
   "execution_count": 80,
   "metadata": {},
   "outputs": [
    {
     "data": {
      "text/plain": [
       "{'R_cooling': '1/30/00',\n",
       " 'R': '曹操以鲜血意志强化大剑，开启时对附近敌人造成200/250/300（+72%物理加成）点物理伤害，并大幅度提升自身攻击力80及20%韧性效果，每次普攻或技能命中敌方将回复自身生命120/180/240（+40%物理加成）点，持续8秒'}"
      ]
     },
     "execution_count": 80,
     "metadata": {},
     "output_type": "execute_result"
    }
   ],
   "source": [
    "search('赵云和曹操','',nodes,relation,propertys,graph,output=None)        \n",
    "search('赵云的skill_1','',nodes,relation,propertys,graph,output=None)\n",
    "\n",
    "question=\"曹操大招冷却时间\"\n",
    "s,syn=synonym_replace(question,synonym)\n",
    "search(s,syn,nodes,relation,propertys,graph,output=None)"
   ]
  },
  {
   "cell_type": "code",
   "execution_count": null,
   "metadata": {},
   "outputs": [],
   "source": []
  }
 ],
 "metadata": {
  "kernelspec": {
   "display_name": "gpu",
   "language": "python",
   "name": "gpu"
  },
  "language_info": {
   "codemirror_mode": {
    "name": "ipython",
    "version": 3
   },
   "file_extension": ".py",
   "mimetype": "text/x-python",
   "name": "python",
   "nbconvert_exporter": "python",
   "pygments_lexer": "ipython3",
   "version": "3.6.2"
  }
 },
 "nbformat": 4,
 "nbformat_minor": 2
}

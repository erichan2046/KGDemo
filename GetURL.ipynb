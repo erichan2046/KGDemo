{
 "cells": [
  {
   "cell_type": "code",
   "execution_count": 1,
   "metadata": {},
   "outputs": [],
   "source": [
    "# -*- coding: utf-8 -*-\n",
    "from selenium.webdriver.common.action_chains import ActionChains\n",
    "from selenium import webdriver\n",
    "import pandas as pd"
   ]
  },
  {
   "cell_type": "code",
   "execution_count": 12,
   "metadata": {
    "scrolled": true
   },
   "outputs": [],
   "source": [
    "driver = webdriver.PhantomJS(executable_path=r'G:\\ForWork\\phantomjs-2.1.1-windows/bin/phantomjs')\n",
    "driver.get(\"http://pvp.qq.com/web201605/herolist.shtml\")"
   ]
  },
  {
   "cell_type": "raw",
   "metadata": {},
   "source": [
    "/html/body/div[3]/div/div/div[2]/div[2]/ul/li[1]/a\n",
    "/html/body/div[3]/div/div/div[2]/div[2]/ul/li[2]/a\n",
    "/html/body/div[3]/div/div/div[2]/div[2]/ul/li[3]/a"
   ]
  },
  {
   "cell_type": "code",
   "execution_count": 3,
   "metadata": {},
   "outputs": [],
   "source": [
    "heros_node=driver.find_elements_by_xpath('/html/body/div[3]/div/div/div[2]/div[2]/ul/li/a')"
   ]
  },
  {
   "cell_type": "code",
   "execution_count": 4,
   "metadata": {},
   "outputs": [],
   "source": [
    "hero_list=[]\n",
    "url_list=[]\n",
    "for node in heros_node:\n",
    "    hero_list.append(node.text)\n",
    "    url_list.append(node.get_attribute('href'))"
   ]
  },
  {
   "cell_type": "code",
   "execution_count": 5,
   "metadata": {},
   "outputs": [],
   "source": [
    "data=pd.DataFrame({'hero':hero_list,'url1':url_list})"
   ]
  },
  {
   "cell_type": "code",
   "execution_count": 6,
   "metadata": {},
   "outputs": [],
   "source": [
    "driver.get('http://news.17173.com/z/pvp/yxtj/index.shtml')"
   ]
  },
  {
   "cell_type": "raw",
   "metadata": {},
   "source": [
    "//*[@id=\"jsheroshow\"]/li[1]/a\n",
    "//*[@id=\"jsheroshow\"]/li[2]/a"
   ]
  },
  {
   "cell_type": "code",
   "execution_count": 7,
   "metadata": {},
   "outputs": [],
   "source": [
    "nodes=driver.find_elements_by_xpath('//*[@id=\"jsheroshow\"]/li/a')"
   ]
  },
  {
   "cell_type": "code",
   "execution_count": 8,
   "metadata": {},
   "outputs": [],
   "source": [
    "hero_list=[]\n",
    "url_list=[]\n",
    "for node in nodes:\n",
    "    hero_list.append(node.text)\n",
    "    url_list.append(node.get_attribute('href'))"
   ]
  },
  {
   "cell_type": "code",
   "execution_count": 9,
   "metadata": {},
   "outputs": [],
   "source": [
    "tmp=pd.DataFrame({'hero':hero_list,'url2':url_list})\n",
    "\n",
    "data=pd.merge(data,tmp,on='hero')"
   ]
  },
  {
   "cell_type": "code",
   "execution_count": 10,
   "metadata": {},
   "outputs": [],
   "source": [
    "data.to_csv(r\"F:\\ericstudy\\wangzherongyao\\newVersion\\data\\url.csv\",encoding=\"gbk\")"
   ]
  },
  {
   "cell_type": "raw",
   "metadata": {},
   "source": [
    "//*[@id=\"hero_more\"]/a\n",
    "//*[@id=\"hreo_list\"]/li[104]/a"
   ]
  },
  {
   "cell_type": "code",
   "execution_count": 13,
   "metadata": {},
   "outputs": [],
   "source": [
    "driver.get(\"http://news.4399.com/gonglue/wzlm/daoju/\")\n",
    "actions = ActionChains(driver)\n",
    "click_node=driver.find_element_by_xpath('//*[@id=\"hero_more\"]/a')\n",
    "actions.click(click_node)\n",
    "actions.click(click_node)\n",
    "actions.perform()\n",
    "heros_node=driver.find_elements_by_xpath('//*[@id=\"hreo_list\"]/li/a')"
   ]
  },
  {
   "cell_type": "code",
   "execution_count": 14,
   "metadata": {},
   "outputs": [],
   "source": [
    "heros_node=driver.find_elements_by_xpath('//*[@id=\"hreo_list\"]/li/a')"
   ]
  },
  {
   "cell_type": "code",
   "execution_count": 15,
   "metadata": {},
   "outputs": [],
   "source": [
    "item_list=[]\n",
    "url_list=[]\n",
    "for node in heros_node:\n",
    "    item_list.append(node.text)\n",
    "    url_list.append(node.get_attribute('href'))"
   ]
  },
  {
   "cell_type": "code",
   "execution_count": 16,
   "metadata": {},
   "outputs": [],
   "source": [
    "data=pd.DataFrame({'item':item_list,'url1':url_list})  \n",
    "data.to_csv(r'F:\\ericstudy\\wangzherongyao\\newVersion\\data\\item_url.csv',encoding=\"gbk\") \n",
    "driver.close()"
   ]
  },
  {
   "cell_type": "code",
   "execution_count": null,
   "metadata": {},
   "outputs": [],
   "source": []
  }
 ],
 "metadata": {
  "kernelspec": {
   "display_name": "gpu",
   "language": "python",
   "name": "gpu"
  },
  "language_info": {
   "codemirror_mode": {
    "name": "ipython",
    "version": 3
   },
   "file_extension": ".py",
   "mimetype": "text/x-python",
   "name": "python",
   "nbconvert_exporter": "python",
   "pygments_lexer": "ipython3",
   "version": "3.6.2"
  }
 },
 "nbformat": 4,
 "nbformat_minor": 2
}

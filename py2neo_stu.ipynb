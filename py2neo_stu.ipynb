{
 "cells": [
  {
   "cell_type": "code",
   "execution_count": 1,
   "metadata": {},
   "outputs": [
    {
     "name": "stdout",
     "output_type": "stream",
     "text": [
      "(alice:Person {name:\"Alice\"}) (bob:Person {name:\"Bob\"}) (alice)-[:Knows]->(bob)\n"
     ]
    }
   ],
   "source": [
    "from py2neo import Node , Relationship,size,order\n",
    "# create node\n",
    "a = Node (\"Person\",name=\"Alice\")\n",
    "b = Node (\"Person\",name=\"Bob\")\n",
    "r = Relationship(a,\"Knows\",b)\n",
    "print(a,b,r)"
   ]
  },
  {
   "cell_type": "code",
   "execution_count": 2,
   "metadata": {},
   "outputs": [
    {
     "name": "stdout",
     "output_type": "stream",
     "text": [
      "(alice:Person {age:21,name:\"Alice\"}) (bob:Person {age:22,name:\"Bob\"}) (alice)-[:Knows {time:\"2018/12/31\"}]->(bob)\n"
     ]
    }
   ],
   "source": [
    "a[\"age\"]=21\n",
    "b[\"age\"]=22\n",
    "r[\"time\"]=\"2018/12/31\"\n",
    "print(a,b,r)"
   ]
  },
  {
   "cell_type": "code",
   "execution_count": 3,
   "metadata": {},
   "outputs": [
    {
     "name": "stdout",
     "output_type": "stream",
     "text": [
      "(alice:Person {age:21,location:\"beijing\",name:\"Alice\"})\n"
     ]
    }
   ],
   "source": [
    "a.setdefault(\"location\",\"beijing\")\n",
    "print(a)"
   ]
  },
  {
   "cell_type": "code",
   "execution_count": 4,
   "metadata": {},
   "outputs": [
    {
     "name": "stdout",
     "output_type": "stream",
     "text": [
      "(alice:Person {age:18,location:\"beijing\",name:\"eric\"})\n"
     ]
    }
   ],
   "source": [
    "data={\"name\":\"eric\",\n",
    "     \"age\":18}\n",
    "a.update(data)\n",
    "print(a)"
   ]
  },
  {
   "cell_type": "code",
   "execution_count": 5,
   "metadata": {},
   "outputs": [
    {
     "name": "stdout",
     "output_type": "stream",
     "text": [
      "({(alice:Person {name:\"Alice\"}), (bob:Person {name:\"Bob\"})}, {(alice)-[:Knows]->(bob)})\n"
     ]
    }
   ],
   "source": [
    "#子图\n",
    "a = Node (\"Person\",name=\"Alice\")\n",
    "b = Node (\"Person\",name=\"Bob\")\n",
    "r = Relationship(a,\"Knows\",b)\n",
    "s = a|b|r\n",
    "print(s)"
   ]
  },
  {
   "cell_type": "code",
   "execution_count": 6,
   "metadata": {},
   "outputs": [
    {
     "name": "stdout",
     "output_type": "stream",
     "text": [
      "frozenset({(alice:Person {name:\"Alice\"}), (bob:Person {name:\"Bob\"})})\n",
      "frozenset({(alice)-[:Knows]->(bob)})\n"
     ]
    }
   ],
   "source": [
    "print(s.nodes())\n",
    "print(s.relationships())"
   ]
  },
  {
   "cell_type": "code",
   "execution_count": 7,
   "metadata": {},
   "outputs": [
    {
     "name": "stdout",
     "output_type": "stream",
     "text": [
      "({(alice:Person {name:\"Alice\"}), (bob:Person {name:\"Bob\"})}, {})\n"
     ]
    }
   ],
   "source": [
    "s1 = a|b|r\n",
    "s2 = a|b\n",
    "print(s1 & s2)"
   ]
  },
  {
   "cell_type": "code",
   "execution_count": 9,
   "metadata": {},
   "outputs": [
    {
     "name": "stdout",
     "output_type": "stream",
     "text": [
      "frozenset({'name'})\n",
      "frozenset({'Person'})\n"
     ]
    }
   ],
   "source": [
    "s =(a|b|r)\n",
    "print(s.keys())\n",
    "print(s.labels())"
   ]
  },
  {
   "cell_type": "code",
   "execution_count": 10,
   "metadata": {},
   "outputs": [
    {
     "name": "stdout",
     "output_type": "stream",
     "text": [
      "2\n",
      "1\n"
     ]
    }
   ],
   "source": [
    "s = a|b|r\n",
    "print(order(s))\n",
    "print(size(s))"
   ]
  },
  {
   "cell_type": "code",
   "execution_count": 12,
   "metadata": {},
   "outputs": [
    {
     "name": "stdout",
     "output_type": "stream",
     "text": [
      "(alice)-[:knows]->(bob)-[:likes]->(sara)<-[:knows]-(alice)\n"
     ]
    }
   ],
   "source": [
    "a = Node (\"Person\",name=\"Alice\")\n",
    "b = Node (\"Person\",name=\"Bob\")\n",
    "c = Node (\"Person\",name=\"Sara\")\n",
    "ab = Relationship(a,\"knows\",b)\n",
    "ac = Relationship(a,\"knows\",c)\n",
    "w = ab + Relationship(b,\"likes\",c)+ ac\n",
    "print(w)"
   ]
  },
  {
   "cell_type": "code",
   "execution_count": 13,
   "metadata": {},
   "outputs": [
    {
     "name": "stdout",
     "output_type": "stream",
     "text": [
      "(alice:Person {name:\"Alice\"})\n",
      "(alice)-[:knows]->(bob)\n",
      "(bob:Person {name:\"Bob\"})\n",
      "(bob)-[:likes]->(sara)\n",
      "(sara:Person {name:\"Sara\"})\n",
      "(alice)-[:knows]->(sara)\n",
      "(alice:Person {name:\"Alice\"})\n"
     ]
    }
   ],
   "source": [
    "# 条用walk()方法实现遍历\n",
    "from py2neo import walk\n",
    "for item in walk(w):\n",
    "    print(item)"
   ]
  },
  {
   "cell_type": "code",
   "execution_count": 14,
   "metadata": {},
   "outputs": [
    {
     "name": "stdout",
     "output_type": "stream",
     "text": [
      "(alice:Person {name:\"Alice\"})\n",
      "(alice:Person {name:\"Alice\"})\n",
      "((alice:Person {name:\"Alice\"}), (bob:Person {name:\"Bob\"}), (sara:Person {name:\"Sara\"}), (alice:Person {name:\"Alice\"}))\n",
      "((alice)-[:knows]->(bob), (bob)-[:likes]->(sara), (alice)-[:knows]->(sara))\n"
     ]
    }
   ],
   "source": [
    "print(w.start_node())\n",
    "print(w.end_node())\n",
    "print(w.nodes())\n",
    "print(w.relationships())"
   ]
  },
  {
   "cell_type": "code",
   "execution_count": 16,
   "metadata": {},
   "outputs": [],
   "source": [
    "from py2neo import Graph\n",
    "graph = Graph(\"http://localhost:7474\",password=\"pass\")\n"
   ]
  },
  {
   "cell_type": "code",
   "execution_count": 23,
   "metadata": {},
   "outputs": [],
   "source": [
    "data = graph.run(\"Match (h:hero) return h.name\")\n"
   ]
  },
  {
   "cell_type": "code",
   "execution_count": null,
   "metadata": {},
   "outputs": [],
   "source": []
  }
 ],
 "metadata": {
  "kernelspec": {
   "display_name": "gpu",
   "language": "python",
   "name": "gpu"
  },
  "language_info": {
   "codemirror_mode": {
    "name": "ipython",
    "version": 3
   },
   "file_extension": ".py",
   "mimetype": "text/x-python",
   "name": "python",
   "nbconvert_exporter": "python",
   "pygments_lexer": "ipython3",
   "version": "3.6.2"
  }
 },
 "nbformat": 4,
 "nbformat_minor": 2
}

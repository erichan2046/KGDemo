{
 "cells": [
  {
   "cell_type": "code",
   "execution_count": 1,
   "metadata": {},
   "outputs": [],
   "source": [
    "from selenium.webdriver.common.action_chains import ActionChains\n",
    "from selenium import webdriver\n",
    "import pandas as pd\n",
    "import re"
   ]
  },
  {
   "cell_type": "code",
   "execution_count": 2,
   "metadata": {},
   "outputs": [
    {
     "name": "stderr",
     "output_type": "stream",
     "text": [
      "G:\\ForWork\\Anaconda\\envs\\gpu\\lib\\site-packages\\selenium\\webdriver\\phantomjs\\webdriver.py:49: UserWarning: Selenium support for PhantomJS has been deprecated, please use headless versions of Chrome or Firefox instead\n",
      "  warnings.warn('Selenium support for PhantomJS has been deprecated, please use headless '\n"
     ]
    }
   ],
   "source": [
    "driver = webdriver.PhantomJS(executable_path=r'G:\\ForWork\\phantomjs-2.1.1-windows/bin/phantomjs')"
   ]
  },
  {
   "cell_type": "code",
   "execution_count": 3,
   "metadata": {},
   "outputs": [],
   "source": [
    "url='http://news.4399.com/wzlm/daoju/fz/m/760625.html'\n",
    "driver.get(url)\n",
    "data={'url':url}"
   ]
  },
  {
   "cell_type": "code",
   "execution_count": 4,
   "metadata": {},
   "outputs": [],
   "source": [
    "pattern=re.compile('(?<=】).+')"
   ]
  },
  {
   "cell_type": "code",
   "execution_count": 5,
   "metadata": {},
   "outputs": [],
   "source": [
    "data['item']=pattern.search(driver.find_element_by_xpath('/html/body/div[4]/div[1]/div[1]/div[3]/p[4]').text).group().replace(' ','')\n",
    "data['item_type']=pattern.search(driver.find_element_by_xpath('/html/body/div[4]/div[1]/div[1]/div[3]/p[5]').text).group().replace(' ','')\n",
    "data['item_price']=pattern.search(driver.find_element_by_xpath('/html/body/div[4]/div[1]/div[1]/div[3]/p[6]').text).group().replace(' ','')\n",
    "data['item_attr']=pattern.search(driver.find_element_by_xpath('/html/body/div[4]/div[1]/div[1]/div[3]/p[7]').text).group().replace(' ','')\n",
    "data['item_passive']=pattern.search(driver.find_element_by_xpath('/html/body/div[4]/div[1]/div[1]/div[3]/p[8]').text).group().replace(' ','')"
   ]
  },
  {
   "cell_type": "code",
   "execution_count": 6,
   "metadata": {},
   "outputs": [],
   "source": [
    "attr_list='法术吸血\t物理吸血\t暴击率\t法术防御\t物理防御\t每5秒回蓝\t每5秒回血\t最大法力\t最大生命\t减cd\t攻击速度\t移速\t法术攻击\t物理攻击'.split('\t')\n",
    "for a in attr_list:\n",
    "    if a in data['item_attr']:\n",
    "        pattern1=re.compile('\\d+%?(?='+a+')')\n",
    "        pattern2=re.compile('(?<='+a+'\\+)\\d+%?')\n",
    "        try:\n",
    "            data[a]=pattern1.search(data['item_attr']).group()\n",
    "        except:\n",
    "            data[a]=pattern2.search(data['item_attr']).group()"
   ]
  },
  {
   "cell_type": "code",
   "execution_count": 7,
   "metadata": {},
   "outputs": [
    {
     "data": {
      "text/plain": [
       "{'url': 'http://news.4399.com/wzlm/daoju/fz/m/760625.html',\n",
       " 'item': '近卫荣耀',\n",
       " 'item_type': '辅助类装备',\n",
       " 'item_price': '2010',\n",
       " 'item_attr': '最大生命+1000；移速+10%',\n",
       " 'item_passive': '唯一被动：奉献：如果自己的经济或经验是己方最低，每3秒额外获得5点经济或经验！',\n",
       " '最大生命': '1000',\n",
       " '移速': '10%'}"
      ]
     },
     "execution_count": 7,
     "metadata": {},
     "output_type": "execute_result"
    }
   ],
   "source": [
    "data"
   ]
  },
  {
   "cell_type": "code",
   "execution_count": null,
   "metadata": {},
   "outputs": [],
   "source": []
  }
 ],
 "metadata": {
  "kernelspec": {
   "display_name": "gpu",
   "language": "python",
   "name": "gpu"
  },
  "language_info": {
   "codemirror_mode": {
    "name": "ipython",
    "version": 3
   },
   "file_extension": ".py",
   "mimetype": "text/x-python",
   "name": "python",
   "nbconvert_exporter": "python",
   "pygments_lexer": "ipython3",
   "version": "3.6.2"
  }
 },
 "nbformat": 4,
 "nbformat_minor": 2
}
